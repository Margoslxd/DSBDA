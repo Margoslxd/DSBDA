{
 "cells": [
  {
   "cell_type": "code",
   "execution_count": 3,
   "metadata": {
    "colab": {
     "base_uri": "https://localhost:8080/"
    },
    "id": "nbVnkg-jXaya",
    "outputId": "72efe7e5-6d93-4947-91b9-a5aa36610b2f"
   },
   "outputs": [
    {
     "name": "stdout",
     "output_type": "stream",
     "text": [
      "[]\n"
     ]
    }
   ],
   "source": [
    "import requests\n",
    "from bs4 import BeautifulSoup\n",
    "\n",
    "HEADERS = ({'User-Agent': 'Mozilla/5.0 (Windows NT 10.0; Win64; x64) \\AppleWebKit/537.36 (KHTML, like Gecko) \\Chrome/90.0.4430.212 Safari/537.36','Accept-Language': 'en-US, en;q=0.5'})\n",
    "\n",
    "# Scrape the data\n",
    "def getdata(site_url):\n",
    "  res = requests.get(site_url, headers=HEADERS)\n",
    "  return res.text\n",
    "\n",
    "def gethtml(site_url):\n",
    "# pass the url into getdata function\n",
    "  data = getdata(site_url)\n",
    "  soup = BeautifulSoup(data, 'html.parser')\n",
    "  return (soup)\n",
    "\n",
    "site_url=\"https://www.flipkart.com/realme-10-pro-5g-nebula-blue-128-gb/p/itm1e672d12a252e?pid=MOBGK8VHHFY5VCAY&lid=LSTMOBGK8VHHFY5VCAYOXEXVI&marketplace=FLIPKART&q=realme+mobile+5g&store=tyy%2F4io&srno=s_1_2&otracker=AS_QueryStore_OrganicAutoSuggest_1_6_na_na_ps&otracker1=AS_QueryStore_OrganicAutoSuggest_1_6_na_na_ps&fm=organic&iid=9924a939-fca6-4333-b603-40e2c2ea2421.MOBGK8VHHFY5VCAY.SEARCH&ppt=hp&ppn=homepage&ssid=3enf0wk00w0000001684935447047&qH=8ab5e6d477d4aa01\"\n",
    "soup = gethtml(site_url)\n",
    "\n",
    "def getCustomerName(soup):\n",
    " # find the Html tag with find() and convert into string\n",
    " data_string = \"\"\n",
    " customer_list = []\n",
    "\n",
    " for item in soup.find_all(\"span\", class_=\"a-profile-name\"):\n",
    "   data_string = data_string + item.get_text()\n",
    "   customer_list.append(data_string)\n",
    "   data_string = \"\"\n",
    " return customer_list\n",
    "\n",
    "customer_res = getCustomerName(soup)\n",
    "print(customer_res)"
   ]
  },
  {
   "cell_type": "code",
   "execution_count": null,
   "metadata": {},
   "outputs": [],
   "source": []
  }
 ],
 "metadata": {
  "colab": {
   "provenance": []
  },
  "kernelspec": {
   "display_name": "Python 3 (ipykernel)",
   "language": "python",
   "name": "python3"
  },
  "language_info": {
   "codemirror_mode": {
    "name": "ipython",
    "version": 3
   },
   "file_extension": ".py",
   "mimetype": "text/x-python",
   "name": "python",
   "nbconvert_exporter": "python",
   "pygments_lexer": "ipython3",
   "version": "3.9.7"
  }
 },
 "nbformat": 4,
 "nbformat_minor": 1
}
